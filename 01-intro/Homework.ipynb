{
 "cells": [
  {
   "cell_type": "markdown",
   "id": "c78c6f07-f2dc-45b7-bd90-faee591f2963",
   "metadata": {},
   "source": [
    "## Homework: Introduction\n",
    "In this homework, we'll learn more about search and use Elastic Search for practice.\n",
    "\n",
    "### Q1. Running Elastic\n",
    "Run Elastic Search 8.17.6, and get the cluster information. If you run it on localhost, this is how you do it:\n",
    "\n",
    "```bash\n",
    "curl localhost:9200\n",
    "```\n",
    "\n",
    "What's the `version.build_hash` value?"
   ]
  },
  {
   "cell_type": "code",
   "execution_count": 5,
   "id": "c8106b9b-3835-4278-9721-767de1e74fa8",
   "metadata": {},
   "outputs": [
    {
     "name": "stdout",
     "output_type": "stream",
     "text": [
      "{\n",
      "  \"name\" : \"8afb23dd812f\",\n",
      "  \"cluster_name\" : \"docker-cluster\",\n",
      "  \"cluster_uuid\" : \"-hCY_hiXTCK1xA2_ygov3g\",\n",
      "  \"version\" : {\n",
      "    \"number\" : \"8.17.6\",\n",
      "    \"build_flavor\" : \"default\",\n",
      "    \"build_type\" : \"docker\",\n",
      "    \"build_hash\" : \"dbcbbbd0bc4924cfeb28929dc05d82d662c527b7\",\n",
      "    \"build_date\" : \"2025-04-30T14:07:12.231372970Z\",\n",
      "    \"build_snapshot\" : false,\n",
      "    \"lucene_version\" : \"9.12.0\",\n",
      "    \"minimum_wire_compatibility_version\" : \"7.17.0\",\n",
      "    \"minimum_index_compatibility_version\" : \"7.0.0\"\n",
      "  },\n",
      "  \"tagline\" : \"You Know, for Search\"\n",
      "}\n"
     ]
    }
   ],
   "source": [
    "!curl -X GET http://localhost:9200/"
   ]
  },
  {
   "cell_type": "markdown",
   "id": "177d938d-1c5f-4dbc-a62b-351b3f823cce",
   "metadata": {},
   "source": [
    "### Getting the data\n",
    "Now let's get the FAQ data. You can run this snippet:"
   ]
  },
  {
   "cell_type": "code",
   "execution_count": 3,
   "id": "08a37fff-236d-4569-a4f7-784964f348dc",
   "metadata": {},
   "outputs": [],
   "source": [
    "!pip install requests --quiet\n",
    "\n",
    "import requests \n",
    "\n",
    "docs_url = 'https://github.com/DataTalksClub/llm-zoomcamp/blob/main/01-intro/documents.json?raw=1'\n",
    "docs_response = requests.get(docs_url)\n",
    "documents_raw = docs_response.json()\n",
    "\n",
    "documents = []\n",
    "\n",
    "for course in documents_raw:\n",
    "    course_name = course['course']\n",
    "\n",
    "    for doc in course['documents']:\n",
    "        doc['course'] = course_name\n",
    "        documents.append(doc)"
   ]
  },
  {
   "cell_type": "markdown",
   "id": "b044c385-2416-4d74-9754-929e6f9a3de2",
   "metadata": {},
   "source": [
    "### Q2. Indexing the data\n",
    "Index the data in the same way as was shown in the course videos. Make the `course` field a keyword; the rest should be text.\n",
    "\n",
    "Don't forget to install the ElasticSearch client for Python: \n",
    "```python\n",
    "pip install elasticsearch\n",
    "```\n",
    "\n",
    "Which function do you use to add your data to `Elastic`?\n",
    "- insert\n",
    "- index\n",
    "- put\n",
    "- add"
   ]
  },
  {
   "cell_type": "code",
   "execution_count": 6,
   "id": "819901b3-3047-4026-bdd9-e4d3440c6202",
   "metadata": {},
   "outputs": [
    {
     "data": {
      "text/plain": [
       "ObjectApiResponse({'acknowledged': True, 'shards_acknowledged': True, 'index': 'course-questions'})"
      ]
     },
     "execution_count": 6,
     "metadata": {},
     "output_type": "execute_result"
    }
   ],
   "source": [
    "from tqdm.auto import tqdm\n",
    "from elasticsearch import Elasticsearch\n",
    "\n",
    "index_name = \"course-questions\"\n",
    "es_client = Elasticsearch('http://localhost:9200')\n",
    "\n",
    "index_settings = {\n",
    "    \"settings\": {\n",
    "        \"number_of_shards\": 1, \n",
    "        \"number_of_replicas\": 0 \n",
    "    },\n",
    "    \"mappings\": { \n",
    "        \"properties\": {\n",
    "            \"text\": {\"type\": \"text\"},\n",
    "            \"section\": {\"type\": \"text\"},\n",
    "            \"question\": {\"type\": \"text\"},\n",
    "            \"course\": {\"type\": \"keyword\"} \n",
    "        }\n",
    "    }\n",
    "}\n",
    "\n",
    "es_client.indices.create(index=index_name, body=index_settings)"
   ]
  },
  {
   "cell_type": "code",
   "execution_count": 7,
   "id": "ba95c5eb-e4d1-426c-91b3-973b19377fba",
   "metadata": {},
   "outputs": [
    {
     "name": "stdout",
     "output_type": "stream",
     "text": [
      "{'text': \"The purpose of this document is to capture frequently asked technical questions\\nThe exact day and hour of the course will be 15th Jan 2024 at 17h00. The course will start with the first  “Office Hours'' live.1\\nSubscribe to course public Google Calendar (it works from Desktop only).\\nRegister before the course starts using this link.\\nJoin the course Telegram channel with announcements.\\nDon’t forget to register in DataTalks.Club's Slack and join the channel.\", 'section': 'General course-related questions', 'question': 'Course - When will the course start?', 'course': 'data-engineering-zoomcamp'}\n"
     ]
    },
    {
     "data": {
      "application/vnd.jupyter.widget-view+json": {
       "model_id": "69072677c11d43a5a92f518125cdab8c",
       "version_major": 2,
       "version_minor": 0
      },
      "text/plain": [
       "  0%|          | 0/948 [00:00<?, ?it/s]"
      ]
     },
     "metadata": {},
     "output_type": "display_data"
    }
   ],
   "source": [
    "## Printing one document\n",
    "print(documents[0])\n",
    "\n",
    "## Indexing the documents in the ElasticSearch\n",
    "for doc in tqdm(documents):\n",
    "    es_client.index(index=index_name, document=doc)"
   ]
  },
  {
   "cell_type": "markdown",
   "id": "d5266748-9206-4bd5-9e53-2d8885063c99",
   "metadata": {},
   "source": [
    "### Q3. Searching\n",
    "Now let's search in our index.\n",
    "\n",
    "We will execute a query \"How do execute a command on a Kubernetes pod?\".\n",
    "\n",
    "Use only `question` and `text` fields and give `question` a boost of 4, and use `\"type\": \"best_fields\"`.\n",
    "\n",
    "What's the score for the top ranking result?\n",
    "- 84.50\n",
    "- 64.50\n",
    "- 44.50\n",
    "- 24.50\n",
    "\n",
    "Look at the `_score` field."
   ]
  },
  {
   "cell_type": "code",
   "execution_count": 21,
   "id": "c683271c-08a4-4a90-9ff0-4b1bfccddff0",
   "metadata": {},
   "outputs": [
    {
     "data": {
      "text/plain": [
       "31.973522"
      ]
     },
     "execution_count": 21,
     "metadata": {},
     "output_type": "execute_result"
    }
   ],
   "source": [
    "query = 'How do execute a command on a Kubernetes pod?'\n",
    "\n",
    "search_query = {\n",
    "        \"size\": 5,  # Limit the search to return only the top 5 results\n",
    "        \"query\": {\n",
    "            \"bool\": {\n",
    "                # 'must' clause: defines conditions that must match\n",
    "                \"must\": {\n",
    "                    \"multi_match\": {\n",
    "                        \"query\": query,  # The user's input query string\n",
    "\n",
    "                        # Search across multiple fields in the index\n",
    "                        \"fields\": [\n",
    "                            \"question^4\",  # Boost the 'question' field by 3x to increase its weight in scoring\n",
    "                            \"text\"\n",
    "                        ],\n",
    "                        \"type\": \"best_fields\"  # Use the best matching field to score each document\n",
    "                    }\n",
    "                },\n",
    "                # 'filter' clause: restrict results without affecting score\n",
    "                \"filter\": {\n",
    "                    \"term\": {\n",
    "                        \"course\": \"data-engineering-zoomcamp\"  # Only include results from this specific course\n",
    "                    }\n",
    "                }\n",
    "            }\n",
    "        }\n",
    "    }\n",
    "# Send the query to Elasticsearch and store the response\n",
    "response = es_client.search(index=index_name, body=search_query)\n",
    "response[\"hits\"]['hits'][0]['_score']"
   ]
  },
  {
   "cell_type": "markdown",
   "id": "331624fd-ef70-4c7f-ae23-78aae7882f12",
   "metadata": {},
   "source": [
    "### Q4. Filtering\n",
    "Now ask a different question: \"How do copy a file to a Docker container?\".\n",
    "\n",
    "This time we are only interested in questions from `machine-learning-zoomcamp`.\n",
    "\n",
    "Return 3 results. What's the 3rd question returned by the search engine?\n",
    "- How do I debug a docker container?\n",
    "- How do I copy files from a different folder into docker container’s working directory?\n",
    "- How do Lambda container images work?\n",
    "- How can I annotate a graph?"
   ]
  },
  {
   "cell_type": "code",
   "execution_count": 28,
   "id": "26a6895c-85a7-4e91-a6d9-871965b375c2",
   "metadata": {},
   "outputs": [
    {
     "data": {
      "text/plain": [
       "'How do I copy files from a different folder into docker container’s working directory?'"
      ]
     },
     "execution_count": 28,
     "metadata": {},
     "output_type": "execute_result"
    }
   ],
   "source": [
    "query = 'How do execute a command on a Kubernetes pod?'\n",
    "\n",
    "search_query = {\n",
    "        \"size\": 3,  # Limit the search to return only the top 5 results\n",
    "        \"query\": {\n",
    "            \"bool\": {\n",
    "                # 'must' clause: defines conditions that must match\n",
    "                \"must\": {\n",
    "                    \"multi_match\": {\n",
    "                        \"query\": query,  # The user's input query string\n",
    "\n",
    "                        # Search across multiple fields in the index\n",
    "                        \"fields\": [\n",
    "                            \"question^4\",  # Boost the 'question' field by 3x to increase its weight in scoring\n",
    "                            \"text\"\n",
    "                        ],\n",
    "                        \"type\": \"best_fields\"  # Use the best matching field to score each document\n",
    "                    }\n",
    "                },\n",
    "                # 'filter' clause: restrict results without affecting score\n",
    "                \"filter\": {\n",
    "                    \"term\": {\n",
    "                        \"course\": \"machine-learning-zoomcamp\"  # Only include results from this specific course\n",
    "                    }\n",
    "                }\n",
    "            }\n",
    "        }\n",
    "    }\n",
    "# Send the query to Elasticsearch and store the response\n",
    "response = es_client.search(index=index_name, body=search_query)\n",
    "response[\"hits\"]['hits'][-1][\"_source\"]['question']"
   ]
  },
  {
   "cell_type": "markdown",
   "id": "dd6b8c0f-d74a-4647-9c47-346c513539d0",
   "metadata": {},
   "source": [
    "### Q5. Building a prompt\n",
    "Now we're ready to build a prompt to send to an LLM.\n",
    "\n",
    "Take the records returned from Elasticsearch in Q4 and use this template to build the context. Separate context entries by two linebreaks `(\\n\\n)`\n",
    "\n",
    "```python\n",
    "context_template = \"\"\"\n",
    "Q: {question}\n",
    "A: {text}\n",
    "\"\"\".strip()\n",
    "```\n",
    "\n",
    "Now use the context you just created along with the \"How do I execute a command in a running docker container?\" question to construct a prompt using the template below:\n",
    "\n",
    "```python\n",
    "prompt_template = \"\"\"\n",
    "You're a course teaching assistant. Answer the QUESTION based on the CONTEXT from the FAQ database.\n",
    "Use only the facts from the CONTEXT when answering the QUESTION.\n",
    "\n",
    "QUESTION: {question}\n",
    "\n",
    "CONTEXT:\n",
    "{context}\n",
    "\"\"\".strip()\n",
    "```\n",
    "\n",
    "What's the length of the resulting prompt? (use the len function)\n",
    "- 946\n",
    "- 1446\n",
    "- 1946\n",
    "- 2446"
   ]
  },
  {
   "cell_type": "code",
   "execution_count": 69,
   "id": "78b2ecde-d4cd-4a70-9c89-b79c711bcb2f",
   "metadata": {},
   "outputs": [],
   "source": [
    "def elastic_search(query):\n",
    "    # Construct the Elasticsearch query object\n",
    "    search_query = {\n",
    "        \"size\": 3,  # Limit the search to return only the top 5 results\n",
    "        \"query\": {\n",
    "            \"bool\": {\n",
    "                # 'must' clause: defines conditions that must match\n",
    "                \"must\": {\n",
    "                    \"multi_match\": {\n",
    "                        \"query\": query,  # The user's input query string\n",
    "\n",
    "                        # Search across multiple fields in the index\n",
    "                        \"fields\": [\n",
    "                            \"question^4\",  # Boost the 'question' field by 3x to increase its weight in scoring\n",
    "                            \"text\"\n",
    "                        ],\n",
    "                        \"type\": \"best_fields\"  # Use the best matching field to score each document\n",
    "                    }\n",
    "                },\n",
    "                # 'filter' clause: restrict results without affecting score\n",
    "                \"filter\": {\n",
    "                    \"term\": {\n",
    "                        \"course\": \"machine-learning-zoomcamp\"  # Only include results from this specific course\n",
    "                    }\n",
    "                }\n",
    "            }\n",
    "        }\n",
    "    }\n",
    "    result_docs = []  # Prepare a list to collect the final matched documents\n",
    "    # Iterate over each hit in the search result\n",
    "    for hit in response['hits']['hits']:\n",
    "        # '_source' contains the actual content of the document\n",
    "        result_docs.append(hit['_source'])\n",
    "    # Return the list of matched documents (each is a dict with question, text, section, and course)\n",
    "    return result_docs"
   ]
  },
  {
   "cell_type": "code",
   "execution_count": 70,
   "id": "037c4f5c-ac8c-418e-95ca-7e0be2359763",
   "metadata": {},
   "outputs": [],
   "source": [
    "def build_prompt(query, search_results):\n",
    "    \"\"\"\n",
    "    Builds a prompt string for the LLM using retrieved FAQ entries as context.\n",
    "\n",
    "    Args:\n",
    "        query (str): The user's natural language question.\n",
    "        search_results (list): A list of relevant documents returned by `search()`.\n",
    "\n",
    "    Returns:\n",
    "        str: A formatted prompt to send to the LLM.\n",
    "    \"\"\"\n",
    "\n",
    "    # Define the context template (Q/A format)\n",
    "    context_template = \"Q: {question}\\nA: {text}\"\n",
    "\n",
    "    # Format each search result using the context template\n",
    "    context_entries = [\n",
    "        context_template.format(question=doc['question'], text=doc['text'])\n",
    "        for doc in search_results\n",
    "    ]\n",
    "\n",
    "    # Join entries with two line breaks\n",
    "    context = \"\\n\\n\".join(context_entries)\n",
    "\n",
    "    # Define the overall prompt template\n",
    "    prompt_template = \"\"\"\n",
    "You're a course teaching assistant. Answer the QUESTION based on the CONTEXT from the FAQ database.\n",
    "Use only the facts from the CONTEXT when answering the QUESTION.\n",
    "\n",
    "QUESTION: {question}\n",
    "\n",
    "CONTEXT:\n",
    "{context}\n",
    "\"\"\".strip()\n",
    "\n",
    "    # Fill in the final prompt\n",
    "    prompt = prompt_template.format(question=query, context=context)\n",
    "\n",
    "    return prompt"
   ]
  },
  {
   "cell_type": "code",
   "execution_count": 71,
   "id": "968eaf8b-e681-4442-ac00-9bbb3fd28728",
   "metadata": {},
   "outputs": [
    {
     "name": "stdout",
     "output_type": "stream",
     "text": [
      "Length of the Prompt is: 1101\n"
     ]
    }
   ],
   "source": [
    "query = \"How do I execute a command in a running docker container?\"\n",
    "search_results = elastic_search(query)\n",
    "prompt = build_prompt(query, search_results)\n",
    "print(f\"Length of the Prompt is: {len(prompt)}\")"
   ]
  },
  {
   "cell_type": "markdown",
   "id": "9744fb63-3d4a-469a-8d60-58ca5928fc3c",
   "metadata": {},
   "source": [
    "### Q6. Tokens\n",
    "When we use the OpenAI Platform, we're charged by the number of tokens we send in our prompt and receive in the response.\n",
    "\n",
    "The OpenAI python package uses tiktoken for tokenization:\n",
    "```python\n",
    "pip install tiktoken\n",
    "```\n",
    "\n",
    "Let's calculate the number of tokens in our query:\n",
    "```python\n",
    "encoding = tiktoken.encoding_for_model(\"gpt-4o\")\n",
    "```\n",
    "\n",
    "Use the encode function. How many tokens does our prompt have?\n",
    "- 120\n",
    "- 220\n",
    "- 320\n",
    "- 420\n",
    "\n",
    "Note: to decode back a token into a word, you can use the decode_single_token_bytes function:\n",
    "```python\n",
    "encoding.decode_single_token_bytes(63842)\n",
    "```"
   ]
  },
  {
   "cell_type": "code",
   "execution_count": 72,
   "id": "06353d34-3934-4533-b974-8572587c86e4",
   "metadata": {},
   "outputs": [
    {
     "data": {
      "text/plain": [
       "242"
      ]
     },
     "execution_count": 72,
     "metadata": {},
     "output_type": "execute_result"
    }
   ],
   "source": [
    "!pip install tiktoken --quiet\n",
    "\n",
    "import tiktoken\n",
    "encoding = tiktoken.encoding_for_model(\"gpt-4o\")\n",
    "len(encoding.encode(prompt))"
   ]
  },
  {
   "cell_type": "markdown",
   "id": "66386072-89f4-4126-b13b-1918b35becf3",
   "metadata": {},
   "source": [
    "### Bonus: generating the answer (ungraded)\n",
    "Let's send the prompt to OpenAI. What's the response?\n",
    "\n",
    "Note: you can replace OpenAI with Ollama. See module 2."
   ]
  },
  {
   "cell_type": "markdown",
   "id": "ee9b0a41-cb47-4bae-ad0f-6e5b9739b083",
   "metadata": {},
   "source": [
    "### Bonus: calculating the costs (ungraded)\n",
    "Suppose that on average per request we send 150 tokens and receive back 250 tokens.\n",
    "\n",
    "How much will it cost to run 1000 requests?\n",
    "\n",
    "You can see the prices [here](https://openai.com/api/pricing/)\n",
    "\n",
    "On June 17, the prices for gpt4o are:\n",
    "- Input: $0.005 / 1K tokens\n",
    "- Output: $0.015 / 1K tokens\n",
    "You can redo the calculations with the values you got in Q6 and Q7."
   ]
  }
 ],
 "metadata": {
  "kernelspec": {
   "display_name": "Python 3 (ipykernel)",
   "language": "python",
   "name": "python3"
  },
  "language_info": {
   "codemirror_mode": {
    "name": "ipython",
    "version": 3
   },
   "file_extension": ".py",
   "mimetype": "text/x-python",
   "name": "python",
   "nbconvert_exporter": "python",
   "pygments_lexer": "ipython3",
   "version": "3.12.1"
  }
 },
 "nbformat": 4,
 "nbformat_minor": 5
}
