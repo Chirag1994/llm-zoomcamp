{
 "cells": [
  {
   "cell_type": "markdown",
   "id": "bf2a6f6f-13d8-4494-b239-86e5ba096f39",
   "metadata": {},
   "source": [
    "### Index Zoomcamp FAQ documents\n",
    "- `DE Zoomcamp`: https://docs.google.com/document/d/19bnYs80DwuUimHM65UV3sylsCn2j1vziPOwzBwQrebw/edit\n",
    "- `ML Zoomcamp`: https://docs.google.com/document/d/1LpPanc33QJJ6BSsyxVg-pWNMplal84TdZtq10naIhD8/edit\n",
    "- `MLOps Zoomcamp`: https://docs.google.com/document/d/12TlBfhIiKtyBv8RnsoJR6F72bkPDGEvPOItJIxaEzE0/edit"
   ]
  },
  {
   "cell_type": "markdown",
   "id": "986bdd79-235c-4b2b-9cca-e384c41f1b58",
   "metadata": {},
   "source": [
    "### Downloding Necessary Packages"
   ]
  },
  {
   "cell_type": "code",
   "execution_count": 7,
   "id": "df69e862-5eb5-40fb-9120-a5c08e8051bb",
   "metadata": {},
   "outputs": [
    {
     "name": "stdout",
     "output_type": "stream",
     "text": [
      "Requirement already satisfied: pip in /home/codespace/.python/current/lib/python3.12/site-packages (25.1.1)\n"
     ]
    }
   ],
   "source": [
    "!python3 -m pip install --upgrade pip\n",
    "!pip install tqdm notebook==7.1.2 openai elasticsearch==8.13.0 pandas python-docx==1.1.2 scikit-learn ipywidgets --quiet"
   ]
  },
  {
   "cell_type": "markdown",
   "id": "0aa433f4-f77c-4e94-91cb-7488b2aa8707",
   "metadata": {},
   "source": [
    "### Importing Necessary Libraries"
   ]
  },
  {
   "cell_type": "code",
   "execution_count": 11,
   "id": "4c082e8a-5e63-44fe-ac74-3b903d2e22ea",
   "metadata": {},
   "outputs": [],
   "source": [
    "import io\n",
    "import docx\n",
    "import json\n",
    "import requests"
   ]
  },
  {
   "cell_type": "markdown",
   "id": "716c73f3-0f39-4f3f-a92b-cf9ac047ee38",
   "metadata": {},
   "source": [
    "### High-Level Overview\n",
    "These two functions work together to **extract FAQs (frequently asked questions)** from a **Google Docs document**, assuming the document uses specific heading styles to format its sections and questions. Here's a breakdown:\n",
    "\n",
    "- `clean_line(line)`: This function ensures a line of text is clean by trimming whitespace and special Unicode characters.\n",
    "- `read_faq(file_id)`: Given a Google Docs file ID, it downloads the document, parses it as a `.docx` file, and extracts a list of FAQ items, each with a section, question, and answer, based on the document's structure."
   ]
  },
  {
   "cell_type": "code",
   "execution_count": 9,
   "id": "0d126875-b3a4-457a-bc95-449474286e26",
   "metadata": {},
   "outputs": [],
   "source": [
    "def clean_line(line):\n",
    "    \"\"\"\n",
    "    Cleans a line of text by stripping leading/trailing whitespace and \n",
    "    removing the Unicode Byte Order Mark (BOM) character if present.\n",
    "    \n",
    "    Args:\n",
    "        line (str): A single line of text.\n",
    "    \n",
    "    Returns:\n",
    "        str: The cleaned line of text.\n",
    "    \"\"\"\n",
    "    # Remove leading/trailing whitespace\n",
    "    line = line.strip()\n",
    "    \n",
    "    # Remove BOM character if present (commonly appears in UTF-8 encoded files)\n",
    "    line = line.strip('\\uFEFF')\n",
    "    \n",
    "    return line\n",
    "\n",
    "\n",
    "def read_faq(file_id):\n",
    "    \"\"\"\n",
    "    Downloads and parses a Google Docs document (in .docx format) using the provided file ID.\n",
    "    Extracts FAQs from the document where:\n",
    "      - Heading 1 denotes a section title.\n",
    "      - Heading 2 denotes a question.\n",
    "      - Normal text following a question is the answer.\n",
    "    \n",
    "    Args:\n",
    "        file_id (str): The unique identifier of the Google Docs file.\n",
    "    \n",
    "    Returns:\n",
    "        list[dict]: A list of dictionaries where each dictionary contains:\n",
    "                    - 'section': The section the question belongs to.\n",
    "                    - 'question': The question text.\n",
    "                    - 'text': The corresponding answer text.\n",
    "    \"\"\"\n",
    "    # Construct URL to export the Google Doc as a .docx file\n",
    "    url = f'https://docs.google.com/document/d/{file_id}/export?format=docx'\n",
    "    \n",
    "    # Download the document content\n",
    "    response = requests.get(url)\n",
    "    response.raise_for_status()  # Raise an exception if the download failed\n",
    "\n",
    "    # Load the document into memory and parse with python-docx\n",
    "    with io.BytesIO(response.content) as f_in:\n",
    "        doc = docx.Document(f_in)\n",
    "\n",
    "    questions = []  # List to hold extracted FAQ entries\n",
    "\n",
    "    # Define the expected styles for section and question headings\n",
    "    question_heading_style = 'heading 2'\n",
    "    section_heading_style = 'heading 1'\n",
    "    \n",
    "    # Track current context while iterating through paragraphs\n",
    "    section_title = ''\n",
    "    question_title = ''\n",
    "    answer_text_so_far = ''\n",
    "     \n",
    "    for p in doc.paragraphs:\n",
    "        style = p.style.name.lower()  # Get paragraph style name\n",
    "        p_text = clean_line(p.text)   # Clean paragraph text\n",
    "    \n",
    "        if len(p_text) == 0:\n",
    "            continue  # Skip empty lines\n",
    "    \n",
    "        if style == section_heading_style:\n",
    "            # Update current section title\n",
    "            section_title = p_text\n",
    "            continue\n",
    "    \n",
    "        if style == question_heading_style:\n",
    "            # Save previous question-answer pair before starting a new one\n",
    "            answer_text_so_far = answer_text_so_far.strip()\n",
    "            if answer_text_so_far != '' and section_title != '' and question_title != '':\n",
    "                questions.append({\n",
    "                    'text': answer_text_so_far,\n",
    "                    'section': section_title,\n",
    "                    'question': question_title,\n",
    "                })\n",
    "                answer_text_so_far = ''  # Reset answer buffer\n",
    "    \n",
    "            # Start a new question\n",
    "            question_title = p_text\n",
    "            continue\n",
    "        \n",
    "        # Accumulate text for the current answer\n",
    "        answer_text_so_far += '\\n' + p_text\n",
    "    \n",
    "    # Handle the last question-answer pair after the loop\n",
    "    answer_text_so_far = answer_text_so_far.strip()\n",
    "    if answer_text_so_far != '' and section_title != '' and question_title != '':\n",
    "        questions.append({\n",
    "            'text': answer_text_so_far,\n",
    "            'section': section_title,\n",
    "            'question': question_title,\n",
    "        })\n",
    "\n",
    "    return questions\n"
   ]
  },
  {
   "cell_type": "markdown",
   "id": "df4703af-49b6-4945-8602-670115e9bec4",
   "metadata": {},
   "source": [
    "The below code block **fetches and processes FAQ documents for multiple courses** using their associated Google Docs file IDs. It builds a consolidated list of FAQ data for each course and prints out the course names as it goes."
   ]
  },
  {
   "cell_type": "code",
   "execution_count": 10,
   "id": "e9dcfbe0-5e92-4dcc-89a8-8fb6eb5bb85a",
   "metadata": {},
   "outputs": [
    {
     "name": "stdout",
     "output_type": "stream",
     "text": [
      "data-engineering-zoomcamp\n",
      "machine-learning-zoomcamp\n",
      "mlops-zoomcamp\n"
     ]
    }
   ],
   "source": [
    "## This is a dictionary mapping course names to their corresponding Google Docs file IDs that contain FAQ information.\n",
    "faq_documents = {\n",
    "    'data-engineering-zoomcamp': '19bnYs80DwuUimHM65UV3sylsCn2j1vziPOwzBwQrebw',\n",
    "    'machine-learning-zoomcamp': '1LpPanc33QJJ6BSsyxVg-pWNMplal84TdZtq10naIhD8',\n",
    "    'mlops-zoomcamp': '12TlBfhIiKtyBv8RnsoJR6F72bkPDGEvPOItJIxaEzE0',\n",
    "}\n",
    "\n",
    "## Initializes an empty list to hold the processed FAQ data for all courses.\n",
    "documents = []\n",
    "\n",
    "for course, file_id in faq_documents.items():\n",
    "    print(course)\n",
    "    ## Calls the read_faq() function (explained earlier) with the file_id, returning a list of FAQ entries (questions and answers) for that document.\n",
    "    course_documents = read_faq(file_id)\n",
    "    documents.append({'course': course, 'documents': course_documents})"
   ]
  },
  {
   "cell_type": "code",
   "execution_count": 12,
   "id": "f77f20d3-e75c-4755-8f0b-339552842ce7",
   "metadata": {},
   "outputs": [],
   "source": [
    "## This code block writes the extracted FAQ data to a JSON file called documents.json.\n",
    "\n",
    "with open('documents.json', 'wt') as f_out:\n",
    "    json.dump(documents, f_out, indent=2)"
   ]
  },
  {
   "cell_type": "code",
   "execution_count": 13,
   "id": "195c2d36-a74c-4f9e-b84e-f68d98faf3f9",
   "metadata": {},
   "outputs": [
    {
     "name": "stdout",
     "output_type": "stream",
     "text": [
      "[\n",
      "  {\n",
      "    \"course\": \"data-engineering-zoomcamp\",\n",
      "    \"documents\": [\n",
      "      {\n",
      "        \"text\": \"Data Engineering Zoomcamp FAQ\\nData Engineering Zoomcamp FAQ\\nThe purpose of this document is to capture Frequently asked technical questions\\nEditing guidelines:\\nWhen adding a new FAQ entry, make sure the question is \\u201cHeading 2\\u201d\\nFeel free to improve if you see something is off\\nDon\\u2019t change the formatting in the Data document or add any visual \\u201cimprovements\\u201d (make a copy for yourself first if you need to do it for whatever reason)\\nDon\\u2019t change the pages format (it should be \\u201cpageless\\u201d)\\nAdd name and date for reference, if possible\\nThe next cohort starts January 13th 2025. More info at DTC.\\nRegister before the course starts using this link.\\nJoint the course Telegram channel with announcements.\\nDon\\u2019t forget to register in DataTalks.Club's Slack and join the channel.\",\n",
      "        \"section\": \"General course-related questions\",\n",
      "        \"question\": \"Course - When does the course start?\"\n",
      "      },\n",
      "      {\n"
     ]
    }
   ],
   "source": [
    "!head documents.json"
   ]
  }
 ],
 "metadata": {
  "kernelspec": {
   "display_name": "Python 3 (ipykernel)",
   "language": "python",
   "name": "python3"
  },
  "language_info": {
   "codemirror_mode": {
    "name": "ipython",
    "version": 3
   },
   "file_extension": ".py",
   "mimetype": "text/x-python",
   "name": "python",
   "nbconvert_exporter": "python",
   "pygments_lexer": "ipython3",
   "version": "3.12.1"
  }
 },
 "nbformat": 4,
 "nbformat_minor": 5
}
